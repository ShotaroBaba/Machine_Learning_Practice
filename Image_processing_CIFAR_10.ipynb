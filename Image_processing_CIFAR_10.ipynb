{
  "nbformat": 4,
  "nbformat_minor": 0,
  "metadata": {
    "colab": {
      "name": "Image_processing.ipynb",
      "provenance": [],
      "collapsed_sections": [],
      "machine_shape": "hm",
      "include_colab_link": true
    },
    "kernelspec": {
      "name": "python3",
      "display_name": "Python 3"
    },
    "accelerator": "GPU"
  },
  "cells": [
    {
      "cell_type": "markdown",
      "metadata": {
        "id": "view-in-github",
        "colab_type": "text"
      },
      "source": [
        "<a href=\"https://colab.research.google.com/github/ShotaroBaba/Machine_Learning_Practice/blob/master/Image_processing_CIFAR_10.ipynb\" target=\"_parent\"><img src=\"https://colab.research.google.com/assets/colab-badge.svg\" alt=\"Open In Colab\"/></a>"
      ]
    },
    {
      "cell_type": "code",
      "metadata": {
        "id": "Kq9CFlNDmGdM",
        "colab_type": "code",
        "colab": {
          "base_uri": "https://localhost:8080/",
          "height": 62
        },
        "outputId": "b671fcec-f6dd-452f-a671-6341b10ecf39"
      },
      "source": [
        "import sys\n",
        "\n",
        "import tensorflow as tf\n",
        "import numpy as np\n",
        "import os\n",
        "import urllib.request\n",
        "import shutil\n",
        "\n",
        "import json\n",
        "from imageio import imread\n",
        "\n",
        "from matplotlib import pyplot as plt"
      ],
      "execution_count": 6,
      "outputs": [
        {
          "output_type": "display_data",
          "data": {
            "text/html": [
              "<p style=\"color: red;\">\n",
              "The default version of TensorFlow in Colab will soon switch to TensorFlow 2.x.<br>\n",
              "We recommend you <a href=\"https://www.tensorflow.org/guide/migrate\" target=\"_blank\">upgrade</a> now \n",
              "or ensure your notebook will continue to use TensorFlow 1.x via the <code>%tensorflow_version 1.x</code> magic:\n",
              "<a href=\"https://colab.research.google.com/notebooks/tensorflow_version.ipynb\" target=\"_blank\">more info</a>.</p>\n"
            ],
            "text/plain": [
              "<IPython.core.display.HTML object>"
            ]
          },
          "metadata": {
            "tags": []
          }
        }
      ]
    },
    {
      "cell_type": "code",
      "metadata": {
        "id": "G0iqEc_7mBBe",
        "colab_type": "code",
        "colab": {
          "base_uri": "https://localhost:8080/",
          "height": 286
        },
        "outputId": "e493badb-8aae-432b-ac95-e52fee8d3419"
      },
      "source": [
        "!if [ ! -f cifar-100-python.tar.gz ] ; then wget http://www.cs.toronto.edu/~kriz/cifar-100-python.tar.gz ; fi\n",
        "!tar -xvzf cifar-100-python.tar.gz"
      ],
      "execution_count": 7,
      "outputs": [
        {
          "output_type": "stream",
          "text": [
            "--2019-12-15 05:03:09--  http://www.cs.toronto.edu/~kriz/cifar-100-python.tar.gz\n",
            "Resolving www.cs.toronto.edu (www.cs.toronto.edu)... 128.100.3.30\n",
            "Connecting to www.cs.toronto.edu (www.cs.toronto.edu)|128.100.3.30|:80... connected.\n",
            "HTTP request sent, awaiting response... 200 OK\n",
            "Length: 169001437 (161M) [application/x-gzip]\n",
            "Saving to: ‘cifar-100-python.tar.gz’\n",
            "\n",
            "cifar-100-python.ta 100%[===================>] 161.17M  67.9MB/s    in 2.4s    \n",
            "\n",
            "2019-12-15 05:03:11 (67.9 MB/s) - ‘cifar-100-python.tar.gz’ saved [169001437/169001437]\n",
            "\n",
            "cifar-100-python/\n",
            "cifar-100-python/file.txt~\n",
            "cifar-100-python/train\n",
            "cifar-100-python/test\n",
            "cifar-100-python/meta\n"
          ],
          "name": "stdout"
        }
      ]
    },
    {
      "cell_type": "code",
      "metadata": {
        "id": "y-Y8dOsdzB2y",
        "colab_type": "code",
        "colab": {
          "base_uri": "https://localhost:8080/",
          "height": 34
        },
        "outputId": "d7482ca0-88e6-4996-e57d-732748a331a9"
      },
      "source": [
        "!ls"
      ],
      "execution_count": 8,
      "outputs": [
        {
          "output_type": "stream",
          "text": [
            "cifar-100-python  cifar-100-python.tar.gz  sample_data\n"
          ],
          "name": "stdout"
        }
      ]
    },
    {
      "cell_type": "code",
      "metadata": {
        "id": "mOHQGn55mDRO",
        "colab_type": "code",
        "colab": {}
      },
      "source": [
        "# The function which unpickle train and test files\n",
        "def unpickle(file):\n",
        "    import pickle\n",
        "    with open(file, 'rb') as fo:\n",
        "        dict = pickle.load(fo, encoding='bytes')\n",
        "    return dict"
      ],
      "execution_count": 0,
      "outputs": []
    },
    {
      "cell_type": "code",
      "metadata": {
        "id": "sVTGULQRpZ52",
        "colab_type": "code",
        "colab": {}
      },
      "source": [
        "# Unpickle files\n",
        "train = unpickle('cifar-100-python/train')\n",
        "test = unpickle('cifar-100-python/test')"
      ],
      "execution_count": 0,
      "outputs": []
    },
    {
      "cell_type": "code",
      "metadata": {
        "id": "eCuRLdsepns0",
        "colab_type": "code",
        "colab": {
          "base_uri": "https://localhost:8080/",
          "height": 50
        },
        "outputId": "a06f171a-50ea-41c2-8999-96863a0a3deb"
      },
      "source": [
        "print(train.keys())\n",
        "print(test.keys())"
      ],
      "execution_count": 21,
      "outputs": [
        {
          "output_type": "stream",
          "text": [
            "dict_keys([b'filenames', b'batch_label', b'fine_labels', b'coarse_labels', b'data'])\n",
            "dict_keys([b'filenames', b'batch_label', b'fine_labels', b'coarse_labels', b'data'])\n"
          ],
          "name": "stdout"
        }
      ]
    },
    {
      "cell_type": "code",
      "metadata": {
        "id": "Q3iz7fn4p2H0",
        "colab_type": "code",
        "colab": {
          "base_uri": "https://localhost:8080/",
          "height": 118
        },
        "outputId": "a14cc778-d4f9-4a5f-a99c-3b3deb035961"
      },
      "source": [
        "# Print a number of train data\n",
        "print(f'The number of train data: {len(train[b\"data\"])}')\n",
        "print(f'The number of test data: {len(test[b\"data\"])}')\n",
        "\n",
        "print(f'The number of fine train label: {len(train[b\"fine_labels\"])}')\n",
        "print(f'The number of fine test label: {len(test[b\"fine_labels\"])}')\n",
        "\n",
        "print(f'The number of coarse train data: {len(train[b\"coarse_labels\"])}')\n",
        "print(f'The number of coarse test data: {len(test[b\"coarse_labels\"])}')\n",
        "\n"
      ],
      "execution_count": 22,
      "outputs": [
        {
          "output_type": "stream",
          "text": [
            "The number of train data: 50000\n",
            "The number of test data: 10000\n",
            "The number of fine train label: 50000\n",
            "The number of fine test label: 10000\n",
            "The number of coarse train data: 50000\n",
            "The number of coarse test data: 10000\n"
          ],
          "name": "stdout"
        }
      ]
    },
    {
      "cell_type": "code",
      "metadata": {
        "id": "FZaFpP6ZqMzI",
        "colab_type": "code",
        "colab": {
          "base_uri": "https://localhost:8080/",
          "height": 118
        },
        "outputId": "6a270728-2395-41ed-a108-3906d6119617"
      },
      "source": [
        "# Print some of the contents in data:\n",
        "print(f'The contents of train data: {train[b\"data\"][0]}')\n",
        "print(f'The contents of test data: {test[b\"data\"][0]}')\n",
        "\n",
        "print(f'The contents of fine train label: {train[b\"fine_labels\"][0]}')\n",
        "print(f'The contents of fine test label: {test[b\"fine_labels\"][0]}')\n",
        "\n",
        "print(f'The contents of coarse train data: {train[b\"coarse_labels\"][0]}')\n",
        "print(f'The contents of coarse test data: {test[b\"coarse_labels\"][0]}')\n"
      ],
      "execution_count": 23,
      "outputs": [
        {
          "output_type": "stream",
          "text": [
            "The contents of train data: [255 255 255 ...  10  59  79]\n",
            "The contents of test data: [199 196 195 ... 215 211 183]\n",
            "The contents of fine train label: 19\n",
            "The contents of fine test label: 49\n",
            "The contents of coarse train data: 11\n",
            "The contents of coarse test data: 10\n"
          ],
          "name": "stdout"
        }
      ]
    },
    {
      "cell_type": "code",
      "metadata": {
        "id": "YZ4Zv7W-sBqO",
        "colab_type": "code",
        "colab": {
          "base_uri": "https://localhost:8080/",
          "height": 34
        },
        "outputId": "36cdd037-0029-45a2-afd9-fda41c511413"
      },
      "source": [
        "# Use fine tune label for training data:\n",
        "print(f'The contents of test data: {len(test[b\"data\"][0])}')\n"
      ],
      "execution_count": 24,
      "outputs": [
        {
          "output_type": "stream",
          "text": [
            "The contents of test data: 3072\n"
          ],
          "name": "stdout"
        }
      ]
    },
    {
      "cell_type": "code",
      "metadata": {
        "id": "hXS1hAwwxmuF",
        "colab_type": "code",
        "colab": {}
      },
      "source": [
        "# First, pre-process the data:\n",
        "def process_data(data):\n",
        "    return [[data[i], data[i+1024], data[i+2048]] for i in range(0,1024)]\n",
        "\n",
        "processed_train_data = np.array([process_data(data) for data in train[b\"data\"]])\n",
        "processed_test_data = np.array([process_data(data) for data in test[b\"data\"]])"
      ],
      "execution_count": 0,
      "outputs": []
    },
    {
      "cell_type": "code",
      "metadata": {
        "id": "Wa5pnyYF5RA3",
        "colab_type": "code",
        "colab": {
          "base_uri": "https://localhost:8080/",
          "height": 34
        },
        "outputId": "4b2d12ae-e9bd-4dd1-f3b3-a21e97139c98"
      },
      "source": [
        "print(processed_train_data)"
      ],
      "execution_count": 27,
      "outputs": [
        {
          "output_type": "stream",
          "text": [
            "(50000, 1024, 3)\n"
          ],
          "name": "stdout"
        }
      ]
    },
    {
      "cell_type": "code",
      "metadata": {
        "id": "1PeP5ztD8w11",
        "colab_type": "code",
        "colab": {}
      },
      "source": [
        "# Reshape the data first.\n",
        "processed_train_data = processed_train_data.reshape((50000,1024,3,1))"
      ],
      "execution_count": 0,
      "outputs": []
    },
    {
      "cell_type": "code",
      "metadata": {
        "id": "LWyVjlBD9H8r",
        "colab_type": "code",
        "colab": {}
      },
      "source": [
        "processed_test_data = processed_test_data.reshape((10000,1024,3,1))"
      ],
      "execution_count": 0,
      "outputs": []
    },
    {
      "cell_type": "code",
      "metadata": {
        "id": "nW76N0xf9Jpr",
        "colab_type": "code",
        "colab": {}
      },
      "source": [
        ""
      ],
      "execution_count": 0,
      "outputs": []
    },
    {
      "cell_type": "code",
      "metadata": {
        "id": "dOt1GrHTkpD7",
        "colab_type": "code",
        "colab": {}
      },
      "source": [
        "# Generate a new\n",
        "\n",
        "# Reference:\n",
        "# Learning Multiple Layers of Features from Tiny Images, Alex Krizhevsky, 2009."
      ],
      "execution_count": 0,
      "outputs": []
    },
    {
      "cell_type": "code",
      "metadata": {
        "id": "2p2pY4lB6-rn",
        "colab_type": "code",
        "colab": {}
      },
      "source": [
        ""
      ],
      "execution_count": 0,
      "outputs": []
    }
  ]
}