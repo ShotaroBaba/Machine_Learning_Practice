{
  "nbformat": 4,
  "nbformat_minor": 0,
  "metadata": {
    "colab": {
      "name": "Image_processing.ipynb",
      "provenance": [],
      "collapsed_sections": [],
      "machine_shape": "hm",
      "include_colab_link": true
    },
    "kernelspec": {
      "name": "python3",
      "display_name": "Python 3"
    },
    "accelerator": "GPU"
  },
  "cells": [
    {
      "cell_type": "markdown",
      "metadata": {
        "id": "view-in-github",
        "colab_type": "text"
      },
      "source": [
        "<a href=\"https://colab.research.google.com/github/ShotaroBaba/Machine_Learning_Practice/blob/master/Image_processing_CIFAR_10.ipynb\" target=\"_parent\"><img src=\"https://colab.research.google.com/assets/colab-badge.svg\" alt=\"Open In Colab\"/></a>"
      ]
    },
    {
      "cell_type": "code",
      "metadata": {
        "id": "Kq9CFlNDmGdM",
        "colab_type": "code",
        "colab": {}
      },
      "source": [
        "import sys\n",
        "\n",
        "import tensorflow as tf\n",
        "import numpy as np\n",
        "import os\n",
        "import urllib.request\n",
        "import shutil\n",
        "from PIL import Image\n",
        "import json\n",
        "from imageio import imread\n",
        "\n",
        "from matplotlib import pyplot as plt\n",
        "from tensorflow import keras"
      ],
      "execution_count": 0,
      "outputs": []
    },
    {
      "cell_type": "code",
      "metadata": {
        "id": "0NYwaFuJGy-R",
        "colab_type": "code",
        "colab": {}
      },
      "source": [
        "if not os.path.isdir(\"results\"):\n",
        "    os.mkdir(\"results\")\n"
      ],
      "execution_count": 0,
      "outputs": []
    },
    {
      "cell_type": "code",
      "metadata": {
        "id": "G0iqEc_7mBBe",
        "colab_type": "code",
        "colab": {
          "base_uri": "https://localhost:8080/",
          "height": 101
        },
        "outputId": "7daa8e9e-a95f-4067-ac1b-ff57ba6c16d5"
      },
      "source": [
        "!if [ ! -f cifar-100-python.tar.gz ] ; then wget http://www.cs.toronto.edu/~kriz/cifar-100-python.tar.gz ; fi\n",
        "!tar -xvzf cifar-100-python.tar.gz"
      ],
      "execution_count": 103,
      "outputs": [
        {
          "output_type": "stream",
          "text": [
            "cifar-100-python/\n",
            "cifar-100-python/file.txt~\n",
            "cifar-100-python/train\n",
            "cifar-100-python/test\n",
            "cifar-100-python/meta\n"
          ],
          "name": "stdout"
        }
      ]
    },
    {
      "cell_type": "code",
      "metadata": {
        "id": "y-Y8dOsdzB2y",
        "colab_type": "code",
        "colab": {
          "base_uri": "https://localhost:8080/",
          "height": 34
        },
        "outputId": "752f0877-2c08-46a1-e419-d40d73c6fc37"
      },
      "source": [
        "!ls"
      ],
      "execution_count": 104,
      "outputs": [
        {
          "output_type": "stream",
          "text": [
            "cifar-100-python  cifar-100-python.tar.gz  results  sample_data  saved_model.h5\n"
          ],
          "name": "stdout"
        }
      ]
    },
    {
      "cell_type": "code",
      "metadata": {
        "id": "mOHQGn55mDRO",
        "colab_type": "code",
        "colab": {}
      },
      "source": [
        "# The function which unpickle train and test files\n",
        "def unpickle(file):\n",
        "    import pickle\n",
        "    with open(file, 'rb') as fo:\n",
        "        dict = pickle.load(fo, encoding='bytes')\n",
        "    return dict"
      ],
      "execution_count": 0,
      "outputs": []
    },
    {
      "cell_type": "code",
      "metadata": {
        "id": "sVTGULQRpZ52",
        "colab_type": "code",
        "colab": {}
      },
      "source": [
        "# Unpickle files\n",
        "train = unpickle('cifar-100-python/train')\n",
        "test = unpickle('cifar-100-python/test')"
      ],
      "execution_count": 0,
      "outputs": []
    },
    {
      "cell_type": "code",
      "metadata": {
        "id": "eCuRLdsepns0",
        "colab_type": "code",
        "colab": {
          "base_uri": "https://localhost:8080/",
          "height": 50
        },
        "outputId": "119a03af-ef0a-4397-b168-548e0632f7e0"
      },
      "source": [
        "print(train.keys())\n",
        "print(test.keys())"
      ],
      "execution_count": 107,
      "outputs": [
        {
          "output_type": "stream",
          "text": [
            "dict_keys([b'filenames', b'batch_label', b'fine_labels', b'coarse_labels', b'data'])\n",
            "dict_keys([b'filenames', b'batch_label', b'fine_labels', b'coarse_labels', b'data'])\n"
          ],
          "name": "stdout"
        }
      ]
    },
    {
      "cell_type": "code",
      "metadata": {
        "id": "Q3iz7fn4p2H0",
        "colab_type": "code",
        "colab": {
          "base_uri": "https://localhost:8080/",
          "height": 118
        },
        "outputId": "5253d372-d300-4d41-f388-399970483693"
      },
      "source": [
        "# Print a number of train data\n",
        "print(f'The number of train data: {len(train[b\"data\"])}')\n",
        "print(f'The number of test data: {len(test[b\"data\"])}')\n",
        "\n",
        "print(f'The number of fine train label: {len(train[b\"fine_labels\"])}')\n",
        "print(f'The number of fine test label: {len(test[b\"fine_labels\"])}')\n",
        "\n",
        "print(f'The number of coarse train data: {len(train[b\"coarse_labels\"])}')\n",
        "print(f'The number of coarse test data: {len(test[b\"coarse_labels\"])}')\n",
        "\n"
      ],
      "execution_count": 108,
      "outputs": [
        {
          "output_type": "stream",
          "text": [
            "The number of train data: 50000\n",
            "The number of test data: 10000\n",
            "The number of fine train label: 50000\n",
            "The number of fine test label: 10000\n",
            "The number of coarse train data: 50000\n",
            "The number of coarse test data: 10000\n"
          ],
          "name": "stdout"
        }
      ]
    },
    {
      "cell_type": "code",
      "metadata": {
        "id": "FZaFpP6ZqMzI",
        "colab_type": "code",
        "colab": {
          "base_uri": "https://localhost:8080/",
          "height": 118
        },
        "outputId": "8f876869-f610-42e0-ebf1-a581b5b8c7fd"
      },
      "source": [
        "# Print some of the contents in data:\n",
        "print(f'The contents of train data: {train[b\"data\"][0]}')\n",
        "print(f'The contents of test data: {test[b\"data\"][0]}')\n",
        "\n",
        "print(f'The contents of fine train label: {train[b\"fine_labels\"][0]}')\n",
        "print(f'The contents of fine test label: {test[b\"fine_labels\"][0]}')\n",
        "\n",
        "print(f'The contents of coarse train data: {train[b\"coarse_labels\"][0]}')\n",
        "print(f'The contents of coarse test data: {test[b\"coarse_labels\"][0]}')\n"
      ],
      "execution_count": 109,
      "outputs": [
        {
          "output_type": "stream",
          "text": [
            "The contents of train data: [255 255 255 ...  10  59  79]\n",
            "The contents of test data: [199 196 195 ... 215 211 183]\n",
            "The contents of fine train label: 19\n",
            "The contents of fine test label: 49\n",
            "The contents of coarse train data: 11\n",
            "The contents of coarse test data: 10\n"
          ],
          "name": "stdout"
        }
      ]
    },
    {
      "cell_type": "code",
      "metadata": {
        "id": "YZ4Zv7W-sBqO",
        "colab_type": "code",
        "colab": {
          "base_uri": "https://localhost:8080/",
          "height": 34
        },
        "outputId": "5e202c26-6029-4bbc-e272-efe9d1edca0c"
      },
      "source": [
        "# Use fine tune label for training data:\n",
        "print(f'The contents of test data: {len(test[b\"data\"][0])}')\n"
      ],
      "execution_count": 110,
      "outputs": [
        {
          "output_type": "stream",
          "text": [
            "The contents of test data: 3072\n"
          ],
          "name": "stdout"
        }
      ]
    },
    {
      "cell_type": "code",
      "metadata": {
        "id": "hXS1hAwwxmuF",
        "colab_type": "code",
        "colab": {}
      },
      "source": [
        "# First, pre-process the data:\n",
        "def process_data(data):\n",
        "    return [[data[i], data[i+1024], data[i+2048]] for i in range(0,1024)]\n",
        "\n",
        "processed_train_data = np.array([process_data(data) for data in train[b\"data\"]])\n",
        "processed_test_data = np.array([process_data(data) for data in test[b\"data\"]])"
      ],
      "execution_count": 0,
      "outputs": []
    },
    {
      "cell_type": "code",
      "metadata": {
        "id": "Wa5pnyYF5RA3",
        "colab_type": "code",
        "colab": {}
      },
      "source": [
        "processed_train_data = processed_train_data.reshape(50000,32,32,3)\n",
        "processed_test_data = processed_test_data.reshape(10000,32,32,3)"
      ],
      "execution_count": 0,
      "outputs": []
    },
    {
      "cell_type": "code",
      "metadata": {
        "id": "nW76N0xf9Jpr",
        "colab_type": "code",
        "colab": {}
      },
      "source": [
        "train_labels = np.array(train[b\"fine_labels\"])\n",
        "test_labels = np.array(test[b\"fine_labels\"])\n",
        "\n"
      ],
      "execution_count": 0,
      "outputs": []
    },
    {
      "cell_type": "code",
      "metadata": {
        "id": "5gzVlrULAb0U",
        "colab_type": "code",
        "colab": {
          "base_uri": "https://localhost:8080/",
          "height": 50
        },
        "outputId": "8f61b726-e54b-4e52-f574-74170c8e750a"
      },
      "source": [
        "print(len(np.unique(train_labels)))\n",
        "print(len(np.unique(test_labels)))"
      ],
      "execution_count": 114,
      "outputs": [
        {
          "output_type": "stream",
          "text": [
            "100\n",
            "100\n"
          ],
          "name": "stdout"
        }
      ]
    },
    {
      "cell_type": "code",
      "metadata": {
        "id": "uJQlDpVg_c2N",
        "colab_type": "code",
        "colab": {}
      },
      "source": [
        "processed_train_data, processed_test_data = processed_train_data / 255.0,  processed_test_data / 255.0"
      ],
      "execution_count": 0,
      "outputs": []
    },
    {
      "cell_type": "code",
      "metadata": {
        "id": "6eZEJcT9_p5s",
        "colab_type": "code",
        "colab": {
          "base_uri": "https://localhost:8080/",
          "height": 1000
        },
        "outputId": "c161ecfd-1d2c-4f84-e540-c2a49b973e76"
      },
      "source": [
        "# Construct convolutional neural network first to enable image categorisation.\n",
        "# Reduce the number of array due to memory shortage.\n",
        "model = keras.models.Sequential()\n",
        "model.add(keras.layers.Conv2D(128, (3, 3), activation='relu', input_shape=(32, 32, 3)))\n",
        "model.add(keras.layers.MaxPooling2D((2, 2)))\n",
        "model.add(keras.layers.Conv2D(128, (3, 3), activation='relu'))\n",
        "model.add(keras.layers.Conv2D(256, (3, 3), activation='relu'))\n",
        "\n",
        "model.add(keras.layers.Flatten())\n",
        "model.add(keras.layers.Dense(512, activation='relu'))\n",
        "model.add(keras.layers.Dense(100, activation='softmax'))\n",
        "\n",
        "model.summary()\n",
        "\n",
        "model.compile(optimizer='adam',\n",
        "            loss='sparse_categorical_crossentropy',\n",
        "            metrics=['accuracy'])\n",
        "\n",
        "history = model.fit(processed_train_data, train_labels, epochs=20, \n",
        "                    validation_data=(processed_test_data, test_labels))\n",
        "\n",
        "\n"
      ],
      "execution_count": 116,
      "outputs": [
        {
          "output_type": "stream",
          "text": [
            "Model: \"sequential_8\"\n",
            "_________________________________________________________________\n",
            "Layer (type)                 Output Shape              Param #   \n",
            "=================================================================\n",
            "conv2d_22 (Conv2D)           (None, 30, 30, 128)       3584      \n",
            "_________________________________________________________________\n",
            "max_pooling2d_9 (MaxPooling2 (None, 15, 15, 128)       0         \n",
            "_________________________________________________________________\n",
            "conv2d_23 (Conv2D)           (None, 13, 13, 128)       147584    \n",
            "_________________________________________________________________\n",
            "conv2d_24 (Conv2D)           (None, 11, 11, 256)       295168    \n",
            "_________________________________________________________________\n",
            "flatten_7 (Flatten)          (None, 30976)             0         \n",
            "_________________________________________________________________\n",
            "dense_14 (Dense)             (None, 1024)              31720448  \n",
            "_________________________________________________________________\n",
            "dense_15 (Dense)             (None, 100)               102500    \n",
            "=================================================================\n",
            "Total params: 32,269,284\n",
            "Trainable params: 32,269,284\n",
            "Non-trainable params: 0\n",
            "_________________________________________________________________\n",
            "Train on 50000 samples, validate on 10000 samples\n",
            "Epoch 1/20\n",
            "50000/50000 [==============================] - 16s 327us/sample - loss: 3.7378 - acc: 0.1336 - val_loss: 3.1467 - val_acc: 0.2421\n",
            "Epoch 2/20\n",
            "50000/50000 [==============================] - 16s 317us/sample - loss: 2.8579 - acc: 0.2912 - val_loss: 2.7587 - val_acc: 0.3185\n",
            "Epoch 3/20\n",
            "50000/50000 [==============================] - 16s 317us/sample - loss: 2.3438 - acc: 0.3989 - val_loss: 2.7085 - val_acc: 0.3412\n",
            "Epoch 4/20\n",
            "50000/50000 [==============================] - 16s 317us/sample - loss: 1.7717 - acc: 0.5267 - val_loss: 2.8568 - val_acc: 0.3395\n",
            "Epoch 5/20\n",
            "50000/50000 [==============================] - 16s 320us/sample - loss: 1.0981 - acc: 0.6914 - val_loss: 3.4839 - val_acc: 0.3262\n",
            "Epoch 6/20\n",
            "50000/50000 [==============================] - 16s 318us/sample - loss: 0.5707 - acc: 0.8338 - val_loss: 4.4032 - val_acc: 0.3076\n",
            "Epoch 7/20\n",
            "50000/50000 [==============================] - 16s 318us/sample - loss: 0.3375 - acc: 0.8984 - val_loss: 5.4146 - val_acc: 0.3021\n",
            "Epoch 8/20\n",
            "50000/50000 [==============================] - 16s 321us/sample - loss: 0.2541 - acc: 0.9228 - val_loss: 5.9985 - val_acc: 0.3077\n",
            "Epoch 9/20\n",
            "50000/50000 [==============================] - 16s 319us/sample - loss: 0.2016 - acc: 0.9401 - val_loss: 6.3453 - val_acc: 0.2882\n",
            "Epoch 10/20\n",
            "50000/50000 [==============================] - 16s 318us/sample - loss: 0.1917 - acc: 0.9422 - val_loss: 6.8492 - val_acc: 0.2920\n",
            "Epoch 11/20\n",
            "50000/50000 [==============================] - 16s 317us/sample - loss: 0.1481 - acc: 0.9567 - val_loss: 7.3595 - val_acc: 0.2957\n",
            "Epoch 12/20\n",
            "50000/50000 [==============================] - 16s 318us/sample - loss: 0.1529 - acc: 0.9555 - val_loss: 7.1915 - val_acc: 0.2945\n",
            "Epoch 13/20\n",
            "50000/50000 [==============================] - 16s 318us/sample - loss: 0.1349 - acc: 0.9605 - val_loss: 7.7687 - val_acc: 0.3005\n",
            "Epoch 14/20\n",
            "50000/50000 [==============================] - 16s 318us/sample - loss: 0.1348 - acc: 0.9618 - val_loss: 8.0642 - val_acc: 0.2910\n",
            "Epoch 15/20\n",
            "50000/50000 [==============================] - 16s 319us/sample - loss: 0.1204 - acc: 0.9669 - val_loss: 8.0877 - val_acc: 0.2955\n",
            "Epoch 16/20\n",
            "50000/50000 [==============================] - 16s 318us/sample - loss: 0.1140 - acc: 0.9684 - val_loss: 8.8007 - val_acc: 0.2860\n",
            "Epoch 17/20\n",
            "50000/50000 [==============================] - 16s 319us/sample - loss: 0.1251 - acc: 0.9657 - val_loss: 8.9333 - val_acc: 0.2927\n",
            "Epoch 18/20\n",
            "50000/50000 [==============================] - 16s 317us/sample - loss: 0.0900 - acc: 0.9742 - val_loss: 8.9556 - val_acc: 0.2923\n",
            "Epoch 19/20\n",
            "50000/50000 [==============================] - 16s 317us/sample - loss: 0.0959 - acc: 0.9730 - val_loss: 9.3223 - val_acc: 0.2894\n",
            "Epoch 20/20\n",
            "50000/50000 [==============================] - 16s 317us/sample - loss: 0.1015 - acc: 0.9726 - val_loss: 10.0023 - val_acc: 0.2891\n"
          ],
          "name": "stdout"
        }
      ]
    },
    {
      "cell_type": "code",
      "metadata": {
        "id": "by2txmjLD3sC",
        "colab_type": "code",
        "colab": {}
      },
      "source": [
        "model_path = \"saved_model.h5\"\n",
        "model.save(model_path)"
      ],
      "execution_count": 0,
      "outputs": []
    },
    {
      "cell_type": "code",
      "metadata": {
        "id": "KmdJGYgLECjQ",
        "colab_type": "code",
        "colab": {}
      },
      "source": [
        "model = keras.models.load_model(model_path)\n",
        "\n",
        "# Only take 3000 images in this case.\n",
        "predicted_results = model.predict(processed_test_data[:100])\n",
        "sampled_test_labels = test_labels[:100]\n",
        "\n",
        "sample_test_images = processed_test_data[:100]"
      ],
      "execution_count": 0,
      "outputs": []
    },
    {
      "cell_type": "code",
      "metadata": {
        "id": "APUn5ZY9Fhiy",
        "colab_type": "code",
        "colab": {
          "base_uri": "https://localhost:8080/",
          "height": 840
        },
        "outputId": "73dba363-28f3-4dc9-a7d2-56bb1285a423"
      },
      "source": [
        "print(sample_test_images[0])"
      ],
      "execution_count": 119,
      "outputs": [
        {
          "output_type": "stream",
          "text": [
            "[[[0.78039216 0.84313725 0.97647059]\n",
            "  [0.76862745 0.82745098 0.95686275]\n",
            "  [0.76470588 0.82352941 0.95294118]\n",
            "  ...\n",
            "  [0.84705882 0.90588235 0.98039216]\n",
            "  [0.85098039 0.90588235 0.98039216]\n",
            "  [0.87843137 0.91764706 0.98823529]]\n",
            "\n",
            " [[0.77254902 0.82352941 0.9372549 ]\n",
            "  [0.76470588 0.81568627 0.93333333]\n",
            "  [0.76470588 0.82352941 0.94117647]\n",
            "  ...\n",
            "  [0.90588235 0.95294118 0.98039216]\n",
            "  [0.91372549 0.95294118 0.98039216]\n",
            "  [0.94509804 0.96078431 0.99215686]]\n",
            "\n",
            " [[0.87058824 0.88627451 0.96470588]\n",
            "  [0.83529412 0.8627451  0.94901961]\n",
            "  [0.81960784 0.85882353 0.95294118]\n",
            "  ...\n",
            "  [0.95294118 0.98039216 0.98431373]\n",
            "  [0.95686275 0.97647059 0.98431373]\n",
            "  [0.98039216 0.98039216 0.99215686]]\n",
            "\n",
            " ...\n",
            "\n",
            " [[0.28235294 0.28627451 0.38823529]\n",
            "  [0.27843137 0.29019608 0.4       ]\n",
            "  [0.29019608 0.30588235 0.42352941]\n",
            "  ...\n",
            "  [0.8627451  0.81568627 0.85098039]\n",
            "  [0.71764706 0.65882353 0.70980392]\n",
            "  [0.60784314 0.55294118 0.58823529]]\n",
            "\n",
            " [[0.28235294 0.29411765 0.40784314]\n",
            "  [0.29803922 0.31764706 0.43529412]\n",
            "  [0.32941176 0.34901961 0.47843137]\n",
            "  ...\n",
            "  [0.87058824 0.83137255 0.8627451 ]\n",
            "  [0.73333333 0.68235294 0.75294118]\n",
            "  [0.56862745 0.51764706 0.58431373]]\n",
            "\n",
            " [[0.31372549 0.33333333 0.4627451 ]\n",
            "  [0.32941176 0.35294118 0.48235294]\n",
            "  [0.33333333 0.36078431 0.49803922]\n",
            "  ...\n",
            "  [0.85098039 0.81176471 0.84313725]\n",
            "  [0.81176471 0.76078431 0.82745098]\n",
            "  [0.69019608 0.64313725 0.71764706]]]\n"
          ],
          "name": "stdout"
        }
      ]
    },
    {
      "cell_type": "code",
      "metadata": {
        "id": "g1_Xo9mVF64A",
        "colab_type": "code",
        "colab": {
          "base_uri": "https://localhost:8080/",
          "height": 34
        },
        "outputId": "18cd8e4d-dfb7-4c02-ecbc-9bcf422c6f52"
      },
      "source": [
        "# Save the results of the image categorisation.\n",
        "for i, img_data in enumerate(sample_test_images):\n",
        "    predicted = predicted_results[i].argmax()\n",
        "    truth =  sampled_test_labels[i]\n",
        "    if predicted == truth:\n",
        "        plt.savefig(\"results/right_predicted_results_{0}_{1}_{2}.png\".format(predicted, truth, i))\n",
        "    else:\n",
        "        plt.savefig(\"results/wrong_predicted_results_{0}_{1}_{2}.png\".format(predicted, truth, i))"
      ],
      "execution_count": 120,
      "outputs": [
        {
          "output_type": "display_data",
          "data": {
            "text/plain": [
              "<Figure size 432x288 with 0 Axes>"
            ]
          },
          "metadata": {
            "tags": []
          }
        }
      ]
    },
    {
      "cell_type": "code",
      "metadata": {
        "id": "tp57lSLoHLnn",
        "colab_type": "code",
        "colab": {}
      },
      "source": [
        "# Show the predicted results.\n",
        "!ls results"
      ],
      "execution_count": 0,
      "outputs": []
    },
    {
      "cell_type": "code",
      "metadata": {
        "id": "dOt1GrHTkpD7",
        "colab_type": "code",
        "colab": {}
      },
      "source": [
        "# Reference:\n",
        "# Learning Multiple Layers of Features from Tiny Images, Alex Krizhevsky, 2009."
      ],
      "execution_count": 0,
      "outputs": []
    }
  ]
}